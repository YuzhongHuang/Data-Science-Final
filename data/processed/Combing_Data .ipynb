{
 "cells": [
  {
   "cell_type": "code",
   "execution_count": 2,
   "metadata": {
    "collapsed": false
   },
   "outputs": [],
   "source": [
    "# pandas\n",
    "import pandas as pd\n",
    "from pandas import Series,DataFrame\n",
    "\n",
    "# numpy, matplotlib, seaborn\n",
    "import numpy as np\n",
    "import seaborn as sns\n",
    "import matplotlib.pyplot as plt\n",
    "%matplotlib inline"
   ]
  },
  {
   "cell_type": "code",
   "execution_count": 58,
   "metadata": {
    "collapsed": false
   },
   "outputs": [],
   "source": [
    "# import dataframes\n",
    "patient_df = pd.read_csv(\"../raw/trainingSet/training_SyncPatient.csv\", sep=',')\n",
    "transcript_df = pd.read_csv(\"../raw/trainingSet/training_SyncTranscript.csv\", sep=',')"
   ]
  },
  {
   "cell_type": "code",
   "execution_count": 59,
   "metadata": {
    "collapsed": false
   },
   "outputs": [],
   "source": [
    "# some weights values are 0, which dose not make sense, we convert them into NaN value and delete them later\n",
    "transcript_df['Weight'] = transcript_df['Weight'].apply(lambda x: None if x == 0 else x)"
   ]
  },
  {
   "cell_type": "code",
   "execution_count": 73,
   "metadata": {
    "collapsed": false
   },
   "outputs": [],
   "source": [
    "def incorpriate(my_df, cols):\n",
    "    \"\"\"\n",
    "    generates a new datafram indexed by \"PatientGuid\" with chosen columns\n",
    "    \n",
    "    \"\"\"\n",
    "    guid = transcript_df.groupby('PatientGuid')['PatientGuid'].apply(list)\n",
    "    for col in cols:\n",
    "        patients = transcript_df.groupby('PatientGuid')[col].apply(list)\n",
    "        \n",
    "        for index in range(len(patients)):\n",
    "            lst = []\n",
    "            for i in range(len(patients[index])):\n",
    "                if pd.notnull(patients[index][i]):\n",
    "                    lst.append(patients[index][i])\n",
    "            if not lst:\n",
    "                patients[index] = None\n",
    "            else:\n",
    "                patients[index] = sum(lst)/len(lst)\n",
    "                \n",
    "        new_df = patients.to_frame()\n",
    "        new_df['PatientGuid'] = guid.apply(lambda x: x[0])\n",
    "        \n",
    "        my_df = my_df.merge(new_df, on='PatientGuid')\n",
    "    return my_df"
   ]
  },
  {
   "cell_type": "code",
   "execution_count": 74,
   "metadata": {
    "collapsed": false
   },
   "outputs": [],
   "source": [
    "new_df = incorpriate(patient_df, ['Height', 'Weight', 'SystolicBP', 'DiastolicBP', 'RespiratoryRate', 'Temperature'])"
   ]
  },
  {
   "cell_type": "code",
   "execution_count": 80,
   "metadata": {
    "collapsed": false
   },
   "outputs": [],
   "source": [
    "new_df.to_csv('Processed_Transcript.csv', index=False)"
   ]
  }
 ],
 "metadata": {
  "kernelspec": {
   "display_name": "Python 2",
   "language": "python",
   "name": "python2"
  },
  "language_info": {
   "codemirror_mode": {
    "name": "ipython",
    "version": 2
   },
   "file_extension": ".py",
   "mimetype": "text/x-python",
   "name": "python",
   "nbconvert_exporter": "python",
   "pygments_lexer": "ipython2",
   "version": "2.7.11"
  }
 },
 "nbformat": 4,
 "nbformat_minor": 0
}
