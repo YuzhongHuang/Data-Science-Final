{
 "cells": [
  {
   "cell_type": "code",
   "execution_count": 1,
   "metadata": {
    "collapsed": false
   },
   "outputs": [
    {
     "name": "stderr",
     "output_type": "stream",
     "text": [
      "/home/wooj/anaconda2/lib/python2.7/site-packages/matplotlib/font_manager.py:273: UserWarning: Matplotlib is building the font cache using fc-list. This may take a moment.\n",
      "  warnings.warn('Matplotlib is building the font cache using fc-list. This may take a moment.')\n"
     ]
    }
   ],
   "source": [
    "# pandas\n",
    "import pandas as pd\n",
    "from pandas import Series,DataFrame\n",
    "\n",
    "# numpy, matplotlib, seaborn\n",
    "import numpy as np\n",
    "import seaborn as sns\n",
    "import matplotlib.pyplot as plt\n",
    "%matplotlib inline"
   ]
  },
  {
   "cell_type": "code",
   "execution_count": 2,
   "metadata": {
    "collapsed": false
   },
   "outputs": [],
   "source": [
    "# converts the csv files related to basic information as a DataFrames\n",
    "patient_df = pd.read_csv(\"../raw/trainingSet/training_SyncPatient.csv\", sep=',')\n",
    "diagnosis_df = pd.read_csv(\"../raw/trainingSet/training_SyncDiagnosis.csv\", sep=',')\n",
    "labOb_df = pd.read_csv(\"../raw/trainingSet/training_SyncLabObservation.csv\", sep=',')\n",
    "labPan_df = pd.read_csv(\"../raw/trainingSet/training_SyncLabPanel.csv\", sep=',')\n",
    "labRes_df = pd.read_csv(\"../raw/trainingSet/training_SyncLabResult.csv\", sep=',')"
   ]
  },
  {
   "cell_type": "code",
   "execution_count": 3,
   "metadata": {
    "collapsed": false
   },
   "outputs": [],
   "source": [
    "def drop_columns(df, cols):\n",
    "    \"\"\"Drop a given list of columns for the given dataframe\"\"\"\n",
    "    for col in cols:\n",
    "        df = df.drop(col, 1) \n",
    "    return df\n",
    "\n",
    "diagnosis_df = drop_columns(diagnosis_df, [\"StartYear\", \"StopYear\", \"UserGuid\"])"
   ]
  },
  {
   "cell_type": "code",
   "execution_count": 4,
   "metadata": {
    "collapsed": false
   },
   "outputs": [],
   "source": [
    "def dense_dataframe(df, on):\n",
    "    \"\"\"dense the dataframe by combining entries of same value of a given column\"\"\"\n",
    "    lst = []\n",
    "    for index, value in df.iteritems(): # loop through columns in the dataframe\n",
    "        # combines rows of values of each column to a list, and store the lists into a list\n",
    "        lst.append(df.groupby(on)[index].apply(list)) \n",
    "        \n",
    "    processed_df = pd.concat(lst, axis=1) # convert the list of lists of values to a dataframe \n",
    "    processed_df[on] = processed_df[on].apply(lambda x:x[0]) # retrieve the same value of 'on' column from the list    \n",
    "    return processed_df\n",
    "\n",
    "processed_diagnosis_df = dense_dataframe(diagnosis_df, 'PatientGuid')"
   ]
  },
  {
   "cell_type": "code",
   "execution_count": 5,
   "metadata": {
    "collapsed": false
   },
   "outputs": [],
   "source": [
    "patient_diagnosis_df = patient_df.merge(processed_diagnosis_df, on='PatientGuid')\n",
    "patient_diagnosis_df.to_csv('patient_diagnosis.csv', index=False)"
   ]
  },
  {
   "cell_type": "code",
   "execution_count": null,
   "metadata": {
    "collapsed": true
   },
   "outputs": [],
   "source": []
  }
 ],
 "metadata": {
  "kernelspec": {
   "display_name": "Python 2",
   "language": "python",
   "name": "python2"
  },
  "language_info": {
   "codemirror_mode": {
    "name": "ipython",
    "version": 2
   },
   "file_extension": ".py",
   "mimetype": "text/x-python",
   "name": "python",
   "nbconvert_exporter": "python",
   "pygments_lexer": "ipython2",
   "version": "2.7.11"
  }
 },
 "nbformat": 4,
 "nbformat_minor": 0
}
