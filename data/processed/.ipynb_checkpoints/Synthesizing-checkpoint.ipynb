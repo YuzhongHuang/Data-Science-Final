{
 "cells": [
  {
   "cell_type": "code",
   "execution_count": 16,
   "metadata": {
    "collapsed": true
   },
   "outputs": [],
   "source": [
    "import pandas as pd\n",
    "import numpy as np"
   ]
  },
  {
   "cell_type": "code",
   "execution_count": 17,
   "metadata": {
    "collapsed": true
   },
   "outputs": [],
   "source": [
    "basic_df = pd.read_csv('Processed_Transcript.csv')\n",
    "diagnosis_df = pd.read_csv('combined_data.csv')"
   ]
  },
  {
   "cell_type": "code",
   "execution_count": 18,
   "metadata": {
    "collapsed": false
   },
   "outputs": [],
   "source": [
    "basic_df[\"Gender\"] = basic_df[\"Gender\"].apply(lambda x: 1 if x=='M' else 0)\n",
    "basic_df[\"YearOfBirth\"] = basic_df[\"YearOfBirth\"].apply(lambda x:2012-x)\n",
    "diagnosis_df = diagnosis_df.drop('Unnamed: 0', 1)"
   ]
  },
  {
   "cell_type": "code",
   "execution_count": 19,
   "metadata": {
    "collapsed": false
   },
   "outputs": [],
   "source": [
    "new_df = basic_df.merge(diagnosis_df, on='PatientGuid')"
   ]
  },
  {
   "cell_type": "code",
   "execution_count": 20,
   "metadata": {
    "collapsed": false
   },
   "outputs": [],
   "source": [
    "new_df = new_df.drop('PracticeGuid', 1)\n",
    "new_df = new_df.drop('PatientGuid', 1)\n",
    "new_df = new_df.drop('congenital_face', 1)\n",
    "new_df = new_df.drop('State', 1)\n",
    "new_df = new_df.dropna()"
   ]
  },
  {
   "cell_type": "code",
   "execution_count": 21,
   "metadata": {
    "collapsed": false
   },
   "outputs": [
    {
     "data": {
      "text/plain": [
       "array(['DMIndicator', 'Gender', 'YearOfBirth', 'Height', 'Weight',\n",
       "       'SystolicBP', 'DiastolicBP', 'RespiratoryRate', 'Temperature',\n",
       "       'abdominal_hernia', 'acute_respiratory_infections', 'anemia',\n",
       "       'appendicitis', 'arteries_diseases', 'arthropathies',\n",
       "       'benign_neoplasm', 'bone_neoplasm', 'carcinoma_in_situ',\n",
       "       'cerebrovascular_disease', 'child_mental_disorders', 'chlamydiae',\n",
       "       'chronic_rheumatic_diseases', 'coagulation_hemorrhagic',\n",
       "       'complications_preg', 'complications_puerperium',\n",
       "       'congenital_chromosomal', 'congenital_circulatorhy',\n",
       "       'congenital_digestive', 'congenital_genital',\n",
       "       'congenital_integument', 'congenital_musculoskeletal',\n",
       "       'congenital_nervous', 'congenital_other', 'congenital_urinary',\n",
       "       'diabetes', 'digestive_neoplasm', 'dorsopathies', 'ear_diseases',\n",
       "       'ectopic_molar_pregnancy', 'enteritis_colitis',\n",
       "       'esophagus_diseases', 'external_injury', 'eye_adnexa_disorders',\n",
       "       'female_genital_diseases', 'genitourinary_neoplasm',\n",
       "       'helminthiases', 'hiv', 'hypertension', 'illdefined_unknown_causes',\n",
       "       'infections_skin', 'inflammatory_central_nervous',\n",
       "       'injury_poisoning', 'intestinal_infectious_diseases',\n",
       "       'ischemic_heart_disease', 'kaposi_sarcoma',\n",
       "       'late_infectious_parasitic_diseases', 'lymphatic_neoplasm',\n",
       "       'male_genital_diseases', 'maternal_perinatal', 'mental_retardation',\n",
       "       'mycoses', 'nephritis', 'neurotic_disorders',\n",
       "       'nonspecific_abnormal_findings', 'normal_delivery',\n",
       "       'nutritional_deficiencies', 'obstructive_pulmonary_disease',\n",
       "       'oral_diseases', 'osteopathies', 'other_bacterial_diseases',\n",
       "       'other_blood', 'other_digestive_diseases', 'other_diseases_skin',\n",
       "       'other_endocrine_diseases', 'other_heart_disease',\n",
       "       'other_infectious_parasitic_diseases', 'other_inflammatory_skin',\n",
       "       'other_intestines_peritoneum_diseases', 'other_mental_disorders',\n",
       "       'other_metabolic_immunity_disorders', 'other_neoplasm',\n",
       "       'other_perinatal', 'other_preg_abortive_outcome',\n",
       "       'other_respiratory_diseases', 'other_upper_respiratory_diseases',\n",
       "       'other_urinary_diseases', 'personality_disorders', 'pneumoconioses',\n",
       "       'pneumonia_influenza', 'psychoactive_substance',\n",
       "       'psychosexual_disorders', 'psychosis',\n",
       "       'pulmonary_circulation_diseases', 'respiratory_neoplasm',\n",
       "       'rheumatism', 'rickettsioses', 'secondary_diabetes',\n",
       "       'supplementary_classification', 'symptoms', 'syphilis_venereal',\n",
       "       'thyroid_diseases', 'tuberculosis', 'uncertain_neoplasm',\n",
       "       'unspecified_neoplasm', 'vein_lymphatics_diseases',\n",
       "       'viral_diseases_exanthem', 'zoonotic_bacterial_diseases'], dtype=object)"
      ]
     },
     "execution_count": 21,
     "metadata": {},
     "output_type": "execute_result"
    }
   ],
   "source": [
    "def normalize(df, cols):\n",
    "    for col in cols:\n",
    "        df[col] = df[col].apply(lambda x: x/df[col].max()) \n",
    "        df[col] = df[col].apply(lambda x: 0.98 if x==1 else x) \n",
    "        df[col] = df[col].apply(lambda x: 0.02 if x==0 else x) \n",
    "    return df\n",
    "\n",
    "new_df = normalize(new_df, new_df.columns.values)\n",
    "new_df.columns.values"
   ]
  },
  {
   "cell_type": "code",
   "execution_count": 22,
   "metadata": {
    "collapsed": false,
    "scrolled": false
   },
   "outputs": [
    {
     "data": {
      "text/plain": [
       "False"
      ]
     },
     "execution_count": 22,
     "metadata": {},
     "output_type": "execute_result"
    }
   ],
   "source": [
    "new_df.to_csv(\"clean_synthesized_data.csv\")"
   ]
  },
  {
   "cell_type": "code",
   "execution_count": null,
   "metadata": {
    "collapsed": true
   },
   "outputs": [],
   "source": []
  }
 ],
 "metadata": {
  "kernelspec": {
   "display_name": "Python 2",
   "language": "python",
   "name": "python2"
  },
  "language_info": {
   "codemirror_mode": {
    "name": "ipython",
    "version": 2
   },
   "file_extension": ".py",
   "mimetype": "text/x-python",
   "name": "python",
   "nbconvert_exporter": "python",
   "pygments_lexer": "ipython2",
   "version": "2.7.11"
  }
 },
 "nbformat": 4,
 "nbformat_minor": 0
}
