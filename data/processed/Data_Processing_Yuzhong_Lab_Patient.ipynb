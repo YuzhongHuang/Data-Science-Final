{
 "cells": [
  {
   "cell_type": "code",
   "execution_count": 2,
   "metadata": {
    "collapsed": false
   },
   "outputs": [],
   "source": [
    "# pandas\n",
    "import pandas as pd\n",
    "from pandas import Series,DataFrame\n",
    "\n",
    "# numpy, matplotlib, seaborn\n",
    "import numpy as np\n",
    "import seaborn as sns\n",
    "import matplotlib.pyplot as plt\n",
    "%matplotlib inline"
   ]
  },
  {
   "cell_type": "code",
   "execution_count": 5,
   "metadata": {
    "collapsed": true
   },
   "outputs": [],
   "source": [
    "patient_transcript_df = pd.read_csv(\"patient_diagnosis.csv\", sep=',')\n",
    "labRes_df = pd.read_csv(\"../raw/trainingSet/training_SyncLabResult.csv\", sep=',')\n",
    "labPan_df = pd.read_csv(\"../raw/trainingSet/training_SyncLabPanel.csv\", sep=',')\n",
    "labOb_df = pd.read_csv(\"../raw/trainingSet/training_SyncLabObservation.csv\", sep=',')"
   ]
  },
  {
   "cell_type": "code",
   "execution_count": 12,
   "metadata": {
    "collapsed": false
   },
   "outputs": [
    {
     "name": "stdout",
     "output_type": "stream",
     "text": [
      "['E642F827-F820-448D-8C0B-946ED87A8805']\n"
     ]
    }
   ],
   "source": [
    "result_s = labRes_df.groupby('PatientGuid')['LabResultGuid'].apply(list)\n",
    "for index, value in result_s.iteritems():\n",
    "    panel_df = labPan_df[labPan_df['LabResultGuid'] in value]\n",
    "    lst_2011 = panel_df[panel_df['ObservationYear']==2011][\"PanelName\"].apply(list)\n",
    "    lst_2012 = panel_df[panel_df['ObservationYear']==2012][\"PanelName\"].apply(list)\n",
    "    \n",
    "\n",
    "    "
   ]
  }
 ],
 "metadata": {
  "kernelspec": {
   "display_name": "Python 2",
   "language": "python",
   "name": "python2"
  },
  "language_info": {
   "codemirror_mode": {
    "name": "ipython",
    "version": 2
   },
   "file_extension": ".py",
   "mimetype": "text/x-python",
   "name": "python",
   "nbconvert_exporter": "python",
   "pygments_lexer": "ipython2",
   "version": "2.7.11"
  }
 },
 "nbformat": 4,
 "nbformat_minor": 0
}
