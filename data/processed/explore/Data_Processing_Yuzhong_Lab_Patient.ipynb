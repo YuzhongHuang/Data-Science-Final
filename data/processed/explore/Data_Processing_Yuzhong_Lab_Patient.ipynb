{
 "cells": [
  {
   "cell_type": "code",
   "execution_count": 1,
   "metadata": {
    "collapsed": false
   },
   "outputs": [
    {
     "name": "stderr",
     "output_type": "stream",
     "text": [
      "/home/yuzhong/anaconda2/lib/python2.7/site-packages/matplotlib/font_manager.py:273: UserWarning: Matplotlib is building the font cache using fc-list. This may take a moment.\n",
      "  warnings.warn('Matplotlib is building the font cache using fc-list. This may take a moment.')\n",
      "/home/yuzhong/anaconda2/lib/python2.7/site-packages/matplotlib/__init__.py:872: UserWarning: axes.color_cycle is deprecated and replaced with axes.prop_cycle; please use the latter.\n",
      "  warnings.warn(self.msg_depr % (key, alt_key))\n"
     ]
    }
   ],
   "source": [
    "# pandas\n",
    "import pandas as pd\n",
    "from pandas import Series,DataFrame\n",
    "\n",
    "# numpy, matplotlib, seaborn\n",
    "import numpy as np\n",
    "import seaborn as sns\n",
    "import matplotlib.pyplot as plt\n",
    "%matplotlib inline"
   ]
  },
  {
   "cell_type": "code",
   "execution_count": 2,
   "metadata": {
    "collapsed": true
   },
   "outputs": [],
   "source": [
    "patient_transcript_df = pd.read_csv(\"patient_diagnosis.csv\", sep=',')\n",
    "patient_df = pd.read_csv(\"../raw/trainingSet/training_SyncPatient.csv\", sep=',')\n",
    "labRes_df = pd.read_csv(\"../raw/trainingSet/training_SyncLabResult.csv\", sep=',')\n",
    "labPan_df = pd.read_csv(\"../raw/trainingSet/training_SyncLabPanel.csv\", sep=',')\n",
    "labOb_df = pd.read_csv(\"../raw/trainingSet/training_SyncLabObservation.csv\", sep=',')"
   ]
  },
  {
   "cell_type": "code",
   "execution_count": 3,
   "metadata": {
    "collapsed": false
   },
   "outputs": [
    {
     "name": "stderr",
     "output_type": "stream",
     "text": [
      "/home/yuzhong/anaconda2/lib/python2.7/site-packages/ipykernel/__main__.py:19: SettingWithCopyWarning: \n",
      "A value is trying to be set on a copy of a slice from a DataFrame\n",
      "\n",
      "See the caveats in the documentation: http://pandas.pydata.org/pandas-docs/stable/indexing.html#indexing-view-versus-copy\n",
      "/home/yuzhong/anaconda2/lib/python2.7/site-packages/pandas/core/indexing.py:117: SettingWithCopyWarning: \n",
      "A value is trying to be set on a copy of a slice from a DataFrame\n",
      "\n",
      "See the caveats in the documentation: http://pandas.pydata.org/pandas-docs/stable/indexing.html#indexing-view-versus-copy\n",
      "  self._setitem_with_indexer(indexer, value)\n",
      "/home/yuzhong/anaconda2/lib/python2.7/site-packages/ipykernel/__main__.py:20: SettingWithCopyWarning: \n",
      "A value is trying to be set on a copy of a slice from a DataFrame\n",
      "\n",
      "See the caveats in the documentation: http://pandas.pydata.org/pandas-docs/stable/indexing.html#indexing-view-versus-copy\n",
      "/home/yuzhong/anaconda2/lib/python2.7/site-packages/ipykernel/__main__.py:25: SettingWithCopyWarning: \n",
      "A value is trying to be set on a copy of a slice from a DataFrame\n",
      "\n",
      "See the caveats in the documentation: http://pandas.pydata.org/pandas-docs/stable/indexing.html#indexing-view-versus-copy\n",
      "/home/yuzhong/anaconda2/lib/python2.7/site-packages/ipykernel/__main__.py:26: SettingWithCopyWarning: \n",
      "A value is trying to be set on a copy of a slice from a DataFrame\n",
      "\n",
      "See the caveats in the documentation: http://pandas.pydata.org/pandas-docs/stable/indexing.html#indexing-view-versus-copy\n"
     ]
    }
   ],
   "source": [
    "s1 = labRes_df.groupby('PatientGuid')['LabResultGuid'].apply(list)\n",
    "s2 = labRes_df.groupby('PatientGuid')['PatientGuid'].apply(list)\n",
    "s2 = s2.apply(lambda x:x[0])\n",
    "\n",
    "result_df = pd.concat([s1, s2], axis=1)\n",
    "result_df['PanelName2011'] = pd.Series(None, index=result_df.index)\n",
    "result_df['PanelName2012'] = pd.Series(None, index=result_df.index)\n",
    "result_df['PanelId2011'] = pd.Series(None, index=result_df.index)\n",
    "result_df['PanelId2012'] = pd.Series(None, index=result_df.index)\n",
    "\n",
    "patient_lab_df = result_df.merge(patient_df, on='PatientGuid')\n",
    "\n",
    "for index, value in patient_lab_df.iterrows():\n",
    "    panel_df = labPan_df[labPan_df['LabResultGuid'].isin(value['LabResultGuid'])]\n",
    "    \n",
    "    lst_name_2011 = panel_df[panel_df['ObservationYear']==2011][\"PanelName\"].tolist()\n",
    "    lst_name_2012 = panel_df[panel_df['ObservationYear']==2012][\"PanelName\"].tolist()\n",
    "        \n",
    "    if lst_name_2011: patient_lab_df['PanelName2011'][index] = lst_name_2011\n",
    "    if lst_name_2012: patient_lab_df['PanelName2012'][index] = lst_name_2012\n",
    "\n",
    "    lst_id_2011 = panel_df[panel_df['ObservationYear']==2011][\"LabPanelGuid\"].tolist()\n",
    "    lst_id_2012 = panel_df[panel_df['ObservationYear']==2012][\"LabPanelGuid\"].tolist()\n",
    "    \n",
    "    if lst_id_2011: patient_lab_df['PanelId2011'][index] = lst_id_2011\n",
    "    if lst_id_2012: patient_lab_df['PanelId2012'][index] = lst_id_2012"
   ]
  },
  {
   "cell_type": "code",
   "execution_count": 45,
   "metadata": {
    "collapsed": false
   },
   "outputs": [
    {
     "name": "stderr",
     "output_type": "stream",
     "text": [
      "/home/yuzhong/anaconda2/lib/python2.7/site-packages/ipykernel/__main__.py:14: SettingWithCopyWarning: \n",
      "A value is trying to be set on a copy of a slice from a DataFrame\n",
      "\n",
      "See the caveats in the documentation: http://pandas.pydata.org/pandas-docs/stable/indexing.html#indexing-view-versus-copy\n",
      "/home/yuzhong/anaconda2/lib/python2.7/site-packages/ipykernel/__main__.py:16: SettingWithCopyWarning: \n",
      "A value is trying to be set on a copy of a slice from a DataFrame\n",
      "\n",
      "See the caveats in the documentation: http://pandas.pydata.org/pandas-docs/stable/indexing.html#indexing-view-versus-copy\n"
     ]
    }
   ],
   "source": [
    "patient_lab_df['Observation2011'] = pd.Series(None, index=patient_lab_df.index, dtype=object)\n",
    "patient_lab_df['Observation2012'] = pd.Series(None, index=patient_lab_df.index, dtype=object)\n",
    "\n",
    "for index, value in patient_lab_df.iterrows():\n",
    "    temp_2011 = None\n",
    "    temp_2012 = None\n",
    "    \n",
    "    if type(pd.notnull(value['PanelId2011']))!=bool:\n",
    "        temp_2011 = [labOb_df[labOb_df['LabPanelGuid']==panelId]['IsAbnormalValue'].sum() for panelId in value['PanelId2011']]\n",
    "    if type(pd.notnull(value['PanelId2012']))!=bool:\n",
    "        temp_2012 = [labOb_df[labOb_df['LabPanelGuid']==panelId]['IsAbnormalValue'].sum() for panelId in value['PanelId2012']]\n",
    "    \n",
    "    if temp_2011: \n",
    "        patient_lab_df['Observation2011'][index] = temp_2011\n",
    "    if temp_2012: \n",
    "        patient_lab_df['Observation2012'][index] = temp_2012"
   ]
  },
  {
   "cell_type": "code",
   "execution_count": 51,
   "metadata": {
    "collapsed": true
   },
   "outputs": [],
   "source": [
    "patient_lab_df.to_csv('patient_lab.csv', index=False)"
   ]
  }
 ],
 "metadata": {
  "kernelspec": {
   "display_name": "Python 2",
   "language": "python",
   "name": "python2"
  },
  "language_info": {
   "codemirror_mode": {
    "name": "ipython",
    "version": 2
   },
   "file_extension": ".py",
   "mimetype": "text/x-python",
   "name": "python",
   "nbconvert_exporter": "python",
   "pygments_lexer": "ipython2",
   "version": "2.7.11"
  }
 },
 "nbformat": 4,
 "nbformat_minor": 0
}
