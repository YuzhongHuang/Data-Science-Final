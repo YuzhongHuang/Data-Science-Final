{
 "cells": [
  {
   "cell_type": "code",
   "execution_count": 3,
   "metadata": {
    "collapsed": true
   },
   "outputs": [],
   "source": [
    "import pandas as pd"
   ]
  },
  {
   "cell_type": "code",
   "execution_count": 4,
   "metadata": {
    "collapsed": false
   },
   "outputs": [
    {
     "data": {
      "text/html": [
       "<div>\n",
       "<table border=\"1\" class=\"dataframe\">\n",
       "  <thead>\n",
       "    <tr style=\"text-align: right;\">\n",
       "      <th></th>\n",
       "      <th>PatientGuid</th>\n",
       "      <th>DMIndicator</th>\n",
       "      <th>Gender</th>\n",
       "      <th>YearOfBirth</th>\n",
       "      <th>State</th>\n",
       "      <th>PracticeGuid</th>\n",
       "    </tr>\n",
       "  </thead>\n",
       "  <tbody>\n",
       "    <tr>\n",
       "      <th>0</th>\n",
       "      <td>FB6EFC3D-1A20-4497-9CBD-00027CC5D220</td>\n",
       "      <td>0</td>\n",
       "      <td>M</td>\n",
       "      <td>1929</td>\n",
       "      <td>SD</td>\n",
       "      <td>7BF4DAD8-5F67-4985-B911-20C9E89A3737</td>\n",
       "    </tr>\n",
       "    <tr>\n",
       "      <th>1</th>\n",
       "      <td>C6746626-6783-4650-A58F-00065649139A</td>\n",
       "      <td>0</td>\n",
       "      <td>F</td>\n",
       "      <td>1985</td>\n",
       "      <td>TX</td>\n",
       "      <td>E7101967-2FF1-4B0F-8129-B0B429D1D15C</td>\n",
       "    </tr>\n",
       "    <tr>\n",
       "      <th>2</th>\n",
       "      <td>E05C6E8F-779F-4594-A388-000C635AE4D3</td>\n",
       "      <td>0</td>\n",
       "      <td>F</td>\n",
       "      <td>1984</td>\n",
       "      <td>NJ</td>\n",
       "      <td>FC01A799-1CAF-464F-A86F-8A666AB86F32</td>\n",
       "    </tr>\n",
       "    <tr>\n",
       "      <th>3</th>\n",
       "      <td>EAEBD216-F847-4355-87B2-000D942E08F0</td>\n",
       "      <td>0</td>\n",
       "      <td>M</td>\n",
       "      <td>1959</td>\n",
       "      <td>OH</td>\n",
       "      <td>EEBC95EF-79BE-4542-892E-98D3166BAB20</td>\n",
       "    </tr>\n",
       "    <tr>\n",
       "      <th>4</th>\n",
       "      <td>C7F10A80-4934-42D2-8540-000FBEBA75C8</td>\n",
       "      <td>0</td>\n",
       "      <td>F</td>\n",
       "      <td>1990</td>\n",
       "      <td>FL</td>\n",
       "      <td>677BA32E-B4C4-48F2-86E4-08C42B135401</td>\n",
       "    </tr>\n",
       "  </tbody>\n",
       "</table>\n",
       "</div>"
      ],
      "text/plain": [
       "                            PatientGuid  DMIndicator Gender  YearOfBirth  \\\n",
       "0  FB6EFC3D-1A20-4497-9CBD-00027CC5D220            0      M         1929   \n",
       "1  C6746626-6783-4650-A58F-00065649139A            0      F         1985   \n",
       "2  E05C6E8F-779F-4594-A388-000C635AE4D3            0      F         1984   \n",
       "3  EAEBD216-F847-4355-87B2-000D942E08F0            0      M         1959   \n",
       "4  C7F10A80-4934-42D2-8540-000FBEBA75C8            0      F         1990   \n",
       "\n",
       "  State                          PracticeGuid  \n",
       "0    SD  7BF4DAD8-5F67-4985-B911-20C9E89A3737  \n",
       "1    TX  E7101967-2FF1-4B0F-8129-B0B429D1D15C  \n",
       "2    NJ  FC01A799-1CAF-464F-A86F-8A666AB86F32  \n",
       "3    OH  EEBC95EF-79BE-4542-892E-98D3166BAB20  \n",
       "4    FL  677BA32E-B4C4-48F2-86E4-08C42B135401  "
      ]
     },
     "execution_count": 4,
     "metadata": {},
     "output_type": "execute_result"
    }
   ],
   "source": [
    "diagnosis_df = pd.read_csv('../data/raw/trainingSet/training_SyncDiagnosis.csv')\n",
    "patient_df = pd.read_csv('../data/raw/trainingSet/training_SyncPatient.csv')\n",
    "transcript_df = pd.read_csv('../data/raw/trainingSet/training_SyncTranscript.csv')\n",
    "conversion_df = pd.read_csv('../data/raw/trainingSet/training_SyncTranscriptDiagnosis.csv')\n",
    "\n",
    "patient_df.head()"
   ]
  },
  {
   "cell_type": "code",
   "execution_count": 5,
   "metadata": {
    "collapsed": false
   },
   "outputs": [
    {
     "data": {
      "text/plain": [
       "2010    48132\n",
       "2011    43360\n",
       "2009    19945\n",
       "2012    15640\n",
       "0        3954\n",
       "Name: VisitYear, dtype: int64"
      ]
     },
     "execution_count": 5,
     "metadata": {},
     "output_type": "execute_result"
    }
   ],
   "source": [
    "transcript_df.VisitYear.value_counts()"
   ]
  },
  {
   "cell_type": "code",
   "execution_count": 6,
   "metadata": {
    "collapsed": false
   },
   "outputs": [],
   "source": [
    "def dense_dataframe(df, on):\n",
    "    \"\"\"dense the dataframe by combining entries of same value of a given column\"\"\"\n",
    "    lst = []\n",
    "    for index, value in df.iteritems(): # loop through columns in the dataframe\n",
    "        # combines rows of values of each column to a list, and store the lists into a list\n",
    "        lst.append(df.groupby(on)[index].apply(list)) \n",
    "        \n",
    "    processed_df = pd.concat(lst, axis=1) # convert the list of lists of values to a dataframe \n",
    "    processed_df[on] = processed_df[on].apply(lambda x:x[0]) # retrieve the same value of 'on' column from the list    \n",
    "    return processed_df\n",
    "\n",
    "processed_conversion_df = dense_dataframe(conversion_df, 'TranscriptGuid')\n",
    "processed_transcripts_df = dense_dataframe(transcript_df, 'PatientGuid')\n",
    "# pd.merge(processed_diagnosis_df, processed_transcripts_df, 'TranscriptGuid')\n",
    "# processed_transcript_df = dense_dataframe(transcript_df, 'PatientGuid')\n",
    "# transcript_diagnosis_df = processed_transcript_df.merge(processed_diagnoses_df, 'TranscriptGuid')\n",
    "# patient_transcript_df = patient_df.merge(processed_transcript_df, on='PatientGuid')\n",
    "# patient_transcript_diagnosis_df = patient"
   ]
  },
  {
   "cell_type": "code",
   "execution_count": 7,
   "metadata": {
    "collapsed": false
   },
   "outputs": [],
   "source": [
    "conversion_dict1 = processed_conversion_df.set_index('TranscriptGuid')['DiagnosisGuid'].to_dict()\n",
    "conversion_dict2 = diagnosis_df.set_index('DiagnosisGuid').to_dict()"
   ]
  },
  {
   "cell_type": "code",
   "execution_count": 10,
   "metadata": {
    "collapsed": false
   },
   "outputs": [],
   "source": [
    "def get_diagnoses(transcripts):\n",
    "    diagnoses, descriptions_all, acute_all, icd9_all, start_all, stop_all = [], [], [], [], [], []\n",
    "\n",
    "    for i in transcripts:\n",
    "        if i in conversion_dict1:\n",
    "            diag = conversion_dict1[i]\n",
    "            diagnoses.append(diag)\n",
    "\n",
    "            descriptions_one, acute_one, icd9_one, start_one, stop_one = [], [], [], [], []\n",
    "            for k in diag:\n",
    "                descriptions_one.append(conversion_dict2['DiagnosisDescription'][k])\n",
    "                acute_one.append(       conversion_dict2['Acute'][k])\n",
    "                icd9_one.append(        conversion_dict2['ICD9Code'][k])\n",
    "                start_one.append(       conversion_dict2['StartYear'][k])\n",
    "                stop_one.append(        conversion_dict2['StopYear'][k])\n",
    "            \n",
    "            descriptions_all.append(descriptions_one)\n",
    "            acute_all.append(acute_one)\n",
    "            icd9_all.append(icd9_one)\n",
    "            start_all.append(start_one)\n",
    "            stop_all.append(stop_one)\n",
    "            \n",
    "    return diagnoses, descriptions_all, acute_all, icd9_all, start_all, stop_all\n",
    "\n",
    "def combine_data(conversion, transcripts):\n",
    "    \"\"\" Matches diagnosis data with each transcript \"\"\"\n",
    "    \n",
    "    transcripts['CombinedData'] = transcripts.TranscriptGuid.apply(get_diagnoses)\n",
    "    \n",
    "    transcripts['DiagnosisGuid']        = [x[0] for x in transcripts['CombinedData']]\n",
    "    transcripts['DiagnosisDescription'] = [x[1] for x in transcripts['CombinedData']]\n",
    "    transcripts['Acute']                = [x[2] for x in transcripts['CombinedData']]\n",
    "    transcripts['ICD9Code']             = [x[3] for x in transcripts['CombinedData']]\n",
    "    transcripts['StartYear']            = [x[4] for x in transcripts['CombinedData']]\n",
    "    transcripts['StopYear']             = [x[5] for x in transcripts['CombinedData']]\n",
    "        \n",
    "    return transcripts\n",
    "        \n",
    "combined_data = combine_data(processed_conversion_df, processed_transcripts_df)\n",
    "combined_data.to_csv('combined_data.csv')"
   ]
  },
  {
   "cell_type": "code",
   "execution_count": null,
   "metadata": {
    "collapsed": true
   },
   "outputs": [],
   "source": []
  }
 ],
 "metadata": {
  "kernelspec": {
   "display_name": "Python 2",
   "language": "python",
   "name": "python2"
  },
  "language_info": {
   "codemirror_mode": {
    "name": "ipython",
    "version": 2
   },
   "file_extension": ".py",
   "mimetype": "text/x-python",
   "name": "python",
   "nbconvert_exporter": "python",
   "pygments_lexer": "ipython2",
   "version": "2.7.11"
  }
 },
 "nbformat": 4,
 "nbformat_minor": 0
}
